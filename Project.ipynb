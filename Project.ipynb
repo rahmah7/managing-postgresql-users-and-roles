import psycopg2
from psycopg2 import sql

# Configuration for PostgreSQL connection
DB_CONFIG = {
    "dbname": "postgres",
    "user": "postgres",
    "password": "your_password",  # Replace with your actual password
    "host": "localhost",
    "port": 5432,
}

# Establishing a connection
def connect_to_postgres():
    try:
        conn = psycopg2.connect(**DB_CONFIG)
        print("Connected to PostgreSQL database.")
        return conn
    except Exception as e:
        print(f"Error: {e}")
        raise

# Create a new role/user
def create_user(conn, username, password):
    try:
        with conn.cursor() as cur:
            cur.execute(
                sql.SQL("CREATE ROLE {username} WITH LOGIN PASSWORD {password};")
                .format(username=sql.Identifier(username), password=sql.Literal(password))
            )
            print(f"User '{username}' created successfully.")
        conn.commit()
    except Exception as e:
        print(f"Error creating user '{username}': {e}")
        conn.rollback()

# Grant privileges to a role
def grant_privileges(conn, username, privileges, database):
    try:
        with conn.cursor() as cur:
            cur.execute(
                sql.SQL("GRANT {privileges} ON DATABASE {database} TO {username};")
                .format(
                    privileges=sql.SQL(privileges),
                    database=sql.Identifier(database),
                    username=sql.Identifier(username),
                )
            )
            print(f"Granted '{privileges}' privileges on database '{database}' to '{username}'.")
        conn.commit()
    except Exception as e:
        print(f"Error granting privileges to '{username}': {e}")
        conn.rollback()

# List all roles
def list_roles(conn):
    try:
        with conn.cursor() as cur:
            cur.execute("SELECT rolname FROM pg_roles;")
            roles = cur.fetchall()
            print("Existing roles:")
            for role in roles:
                print(f"- {role[0]}")
    except Exception as e:
        print(f"Error listing roles: {e}")

# Drop a role
def drop_user(conn, username):
    try:
        with conn.cursor() as cur:
            cur.execute(
                sql.SQL("DROP ROLE IF EXISTS {username};")
                .format(username=sql.Identifier(username))
            )
            print(f"User '{username}' dropped successfully.")
        conn.commit()
    except Exception as e:
        print(f"Error dropping user '{username}': {e}")
        conn.rollback()

# Main script to manage PostgreSQL users and roles
def main():
    conn = None
    try:
        conn = connect_to_postgres()
        # Example operations
        list_roles(conn)  # List existing roles
        create_user(conn, "test_user", "secure_password")  # Create a new user
        grant_privileges(conn, "test_user", "CONNECT, CREATE", "postgres")  # Grant privileges
        list_roles(conn)  # List roles after adding new user
        drop_user(conn, "test_user")  # Drop the test user
    finally:
        if conn:
            conn.close()
            print("Connection closed.")

if __name__ == "__main__":
    main()
